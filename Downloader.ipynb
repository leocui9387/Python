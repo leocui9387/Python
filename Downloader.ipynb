{
 "cells": [
  {
   "cell_type": "code",
   "execution_count": null,
   "metadata": {
    "collapsed": false,
    "scrolled": false
   },
   "outputs": [],
   "source": [
    "import requests\n",
    "import json\n",
    "import math\n",
    "\n",
    "def json2str(txt_buff): \n",
    "    j_buff=json.loads(txt_buff)\n",
    "    return str(j_buff['results'][:])[1:-1]\n",
    "\n",
    "def page_flipper (reqURL, outFILE, pageCOUNT):\n",
    "    for n in range(2,pageCOUNT+1):\n",
    "        print(n)\n",
    "        page_req_txt = reqURL+str(n)\n",
    "        page_r = requests.get(page_req_txt)\n",
    "        outFILE.write(','+json2str(page_r.text)+'\\n')\n",
    "        page_r.close()\n",
    "\n",
    "\n",
    "#START url setup blocks\n",
    "url_root ='https://spending-api.us/api/v1'\n",
    "url_EP = [##'/accounts',\n",
    "          ##'/accounts/tas',\n",
    "          '/awards',\n",
    "          #'/awards/autocomplete',\n",
    "          '/transactions',\n",
    "          #'/references/locations',\n",
    "          #'/references/locations/geocomplete',\n",
    "          '/references/agency',\n",
    "          #'/references/agency/autocomplete',\n",
    "          '/submissions'\n",
    "         ]\n",
    "url_limit=100\n",
    "url_pg ='/?limit='+str(url_limit)+'&page='\n",
    "\n",
    "\n",
    "for i in url_EP:\n",
    "    \n",
    "    print (i)\n",
    "    \n",
    "    ## set up the output file\n",
    "    output = open('FINAL'+i.replace('/','_')+'.txt','w', encoding='utf-8')\n",
    "    \n",
    "    ## http get request\n",
    "    req_URL = url_root + i + url_pg\n",
    "    r=requests.get(req_URL+str(1))\n",
    "\n",
    "    ## input first page into output\n",
    "    output.write('{\\'results\\':[\\n' +json2str(r.text)+'\\n')\n",
    "    buffJSON=json.loads(r.text)\n",
    "    print (buffJSON['total_metadata']['count'])\n",
    "    ## loop through all the pages\n",
    "    page_count = math.ceil(buffJSON['total_metadata']['count']/url_limit)\n",
    "    print(page_count)\n",
    "    page_flipper(req_URL,output,page_count)\n",
    "\n",
    "    ## create text output \n",
    "    \n",
    "    \n",
    "    r.close()\n",
    "    output.write(']}')\n",
    "    output.close()\n",
    "\n"
   ]
  },
  {
   "cell_type": "code",
   "execution_count": null,
   "metadata": {
    "collapsed": false
   },
   "outputs": [],
   "source": [
    "test=open('leo.txt','w',encoding='utf-8')\n",
    "test.write('\\u0102')\n",
    "test.close()"
   ]
  },
  {
   "cell_type": "code",
   "execution_count": null,
   "metadata": {
    "collapsed": true
   },
   "outputs": [],
   "source": []
  }
 ],
 "metadata": {
  "kernelspec": {
   "display_name": "Python 3",
   "language": "python",
   "name": "python3"
  },
  "language_info": {
   "codemirror_mode": {
    "name": "ipython",
    "version": 3
   },
   "file_extension": ".py",
   "mimetype": "text/x-python",
   "name": "python",
   "nbconvert_exporter": "python",
   "pygments_lexer": "ipython3",
   "version": "3.6.0"
  }
 },
 "nbformat": 4,
 "nbformat_minor": 2
}
